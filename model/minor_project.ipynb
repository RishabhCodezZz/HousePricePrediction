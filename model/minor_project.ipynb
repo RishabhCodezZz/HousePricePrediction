{
 "cells": [
  {
   "cell_type": "code",
   "execution_count": 1,
   "metadata": {},
   "outputs": [],
   "source": [
    "import numpy as np\n",
    "import matplotlib.pyplot as plt\n",
    "import pandas as pd\n",
    "from sklearn.preprocessing import LabelEncoder  \n",
    "from sklearn.model_selection import train_test_split\n",
    "from sklearn.metrics import r2_score\n",
    "from sklearn.metrics import mean_absolute_percentage_error\n",
    "from sklearn.metrics import mean_squared_error"
   ]
  },
  {
   "cell_type": "code",
   "execution_count": 23,
   "metadata": {},
   "outputs": [
    {
     "data": {
      "text/plain": [
       "(20303, 12)"
      ]
     },
     "execution_count": 23,
     "metadata": {},
     "output_type": "execute_result"
    }
   ],
   "source": [
    "Data = pd.read_csv(\"dataset.csv\")\n",
    "Data.drop(['date'], axis=1, inplace=True)\n",
    "Data.drop(['month'], axis=1, inplace=True)\n",
    "Data.shape"
   ]
  },
  {
   "cell_type": "code",
   "execution_count": 24,
   "metadata": {},
   "outputs": [],
   "source": [
    "Data['total_rooms'] = Data['bedrooms'] + Data['real_bathrooms']\n",
    "Data['area_per_room'] = Data['living_in_m2'] / Data['total_rooms']\n",
    "Data['living_in_m2_squared'] = Data['living_in_m2'] ** 2\n",
    "Data['quality_score'] = Data['grade'] + Data['nice_view'] + Data['perfect_condition']\n",
    "Data['grade_area'] = Data['grade'] * Data['living_in_m2']\n",
    "Data['bathroom_bedroom_ratio'] = Data['real_bathrooms'] / Data['bedrooms']"
   ]
  },
  {
   "cell_type": "code",
   "execution_count": 25,
   "metadata": {},
   "outputs": [
    {
     "data": {
      "text/plain": [
       "has_basement\n",
       "0    12635\n",
       "1     7668\n",
       "Name: count, dtype: int64"
      ]
     },
     "execution_count": 25,
     "metadata": {},
     "output_type": "execute_result"
    }
   ],
   "source": [
    "le = LabelEncoder()\n",
    "Data['has_basement'] = le.fit_transform(Data['has_basement'])\n",
    "Data['has_basement'].unique()\n",
    "Data['has_basement'].value_counts()"
   ]
  },
  {
   "cell_type": "code",
   "execution_count": 26,
   "metadata": {},
   "outputs": [
    {
     "data": {
      "text/plain": [
       "renovated\n",
       "0    19542\n",
       "1      761\n",
       "Name: count, dtype: int64"
      ]
     },
     "execution_count": 26,
     "metadata": {},
     "output_type": "execute_result"
    }
   ],
   "source": [
    "Data['renovated'] = le.fit_transform(Data['renovated'])\n",
    "Data['renovated'].unique()\n",
    "Data['renovated'].value_counts()"
   ]
  },
  {
   "cell_type": "code",
   "execution_count": 27,
   "metadata": {},
   "outputs": [
    {
     "data": {
      "text/plain": [
       "nice_view\n",
       "0    18751\n",
       "1     1552\n",
       "Name: count, dtype: int64"
      ]
     },
     "execution_count": 27,
     "metadata": {},
     "output_type": "execute_result"
    }
   ],
   "source": [
    "Data['nice_view'] = le.fit_transform(Data['nice_view'])\n",
    "Data['nice_view'].unique()\n",
    "Data['nice_view'].value_counts()"
   ]
  },
  {
   "cell_type": "code",
   "execution_count": 28,
   "metadata": {},
   "outputs": [
    {
     "data": {
      "text/plain": [
       "perfect_condition\n",
       "0    18748\n",
       "1     1555\n",
       "Name: count, dtype: int64"
      ]
     },
     "execution_count": 28,
     "metadata": {},
     "output_type": "execute_result"
    }
   ],
   "source": [
    "Data['perfect_condition'] = le.fit_transform(Data['perfect_condition'])\n",
    "Data['perfect_condition'].unique()\n",
    "Data['perfect_condition'].value_counts()"
   ]
  },
  {
   "cell_type": "code",
   "execution_count": 29,
   "metadata": {},
   "outputs": [
    {
     "data": {
      "text/plain": [
       "has_lavatory\n",
       "1    13826\n",
       "0     6477\n",
       "Name: count, dtype: int64"
      ]
     },
     "execution_count": 29,
     "metadata": {},
     "output_type": "execute_result"
    }
   ],
   "source": [
    "Data['has_lavatory'] = le.fit_transform(Data['has_lavatory'])\n",
    "Data['has_lavatory'].unique()\n",
    "Data['has_lavatory'].value_counts()"
   ]
  },
  {
   "cell_type": "code",
   "execution_count": 30,
   "metadata": {},
   "outputs": [
    {
     "data": {
      "text/plain": [
       "single_floor\n",
       "1    10416\n",
       "0     9887\n",
       "Name: count, dtype: int64"
      ]
     },
     "execution_count": 30,
     "metadata": {},
     "output_type": "execute_result"
    }
   ],
   "source": [
    "Data['single_floor'] = le.fit_transform(Data['single_floor'])\n",
    "Data['single_floor'].unique()\n",
    "Data['single_floor'].value_counts()"
   ]
  },
  {
   "cell_type": "code",
   "execution_count": 31,
   "metadata": {},
   "outputs": [
    {
     "data": {
      "text/html": [
       "<div>\n",
       "<style scoped>\n",
       "    .dataframe tbody tr th:only-of-type {\n",
       "        vertical-align: middle;\n",
       "    }\n",
       "\n",
       "    .dataframe tbody tr th {\n",
       "        vertical-align: top;\n",
       "    }\n",
       "\n",
       "    .dataframe thead th {\n",
       "        text-align: right;\n",
       "    }\n",
       "</style>\n",
       "<table border=\"1\" class=\"dataframe\">\n",
       "  <thead>\n",
       "    <tr style=\"text-align: right;\">\n",
       "      <th></th>\n",
       "      <th>price</th>\n",
       "      <th>bedrooms</th>\n",
       "      <th>grade</th>\n",
       "      <th>has_basement</th>\n",
       "      <th>living_in_m2</th>\n",
       "      <th>renovated</th>\n",
       "      <th>nice_view</th>\n",
       "      <th>perfect_condition</th>\n",
       "      <th>real_bathrooms</th>\n",
       "      <th>has_lavatory</th>\n",
       "      <th>single_floor</th>\n",
       "      <th>quartile_zone</th>\n",
       "      <th>total_rooms</th>\n",
       "      <th>area_per_room</th>\n",
       "      <th>living_in_m2_squared</th>\n",
       "      <th>quality_score</th>\n",
       "      <th>grade_area</th>\n",
       "      <th>bathroom_bedroom_ratio</th>\n",
       "    </tr>\n",
       "  </thead>\n",
       "  <tbody>\n",
       "    <tr>\n",
       "      <th>0</th>\n",
       "      <td>305000.0</td>\n",
       "      <td>2</td>\n",
       "      <td>1</td>\n",
       "      <td>0</td>\n",
       "      <td>76.18046</td>\n",
       "      <td>0</td>\n",
       "      <td>0</td>\n",
       "      <td>1</td>\n",
       "      <td>1</td>\n",
       "      <td>0</td>\n",
       "      <td>1</td>\n",
       "      <td>2</td>\n",
       "      <td>3</td>\n",
       "      <td>25.393487</td>\n",
       "      <td>5803.462486</td>\n",
       "      <td>2</td>\n",
       "      <td>76.18046</td>\n",
       "      <td>0.500000</td>\n",
       "    </tr>\n",
       "    <tr>\n",
       "      <th>1</th>\n",
       "      <td>498000.0</td>\n",
       "      <td>3</td>\n",
       "      <td>2</td>\n",
       "      <td>1</td>\n",
       "      <td>210.88981</td>\n",
       "      <td>0</td>\n",
       "      <td>0</td>\n",
       "      <td>0</td>\n",
       "      <td>2</td>\n",
       "      <td>1</td>\n",
       "      <td>1</td>\n",
       "      <td>2</td>\n",
       "      <td>5</td>\n",
       "      <td>42.177962</td>\n",
       "      <td>44474.511962</td>\n",
       "      <td>2</td>\n",
       "      <td>421.77962</td>\n",
       "      <td>0.666667</td>\n",
       "    </tr>\n",
       "    <tr>\n",
       "      <th>2</th>\n",
       "      <td>590000.0</td>\n",
       "      <td>2</td>\n",
       "      <td>4</td>\n",
       "      <td>0</td>\n",
       "      <td>262.91549</td>\n",
       "      <td>0</td>\n",
       "      <td>0</td>\n",
       "      <td>0</td>\n",
       "      <td>2</td>\n",
       "      <td>1</td>\n",
       "      <td>0</td>\n",
       "      <td>2</td>\n",
       "      <td>4</td>\n",
       "      <td>65.728872</td>\n",
       "      <td>69124.554882</td>\n",
       "      <td>4</td>\n",
       "      <td>1051.66196</td>\n",
       "      <td>1.000000</td>\n",
       "    </tr>\n",
       "    <tr>\n",
       "      <th>3</th>\n",
       "      <td>775000.0</td>\n",
       "      <td>3</td>\n",
       "      <td>3</td>\n",
       "      <td>0</td>\n",
       "      <td>159.79316</td>\n",
       "      <td>0</td>\n",
       "      <td>0</td>\n",
       "      <td>0</td>\n",
       "      <td>1</td>\n",
       "      <td>1</td>\n",
       "      <td>0</td>\n",
       "      <td>3</td>\n",
       "      <td>4</td>\n",
       "      <td>39.948290</td>\n",
       "      <td>25533.853983</td>\n",
       "      <td>3</td>\n",
       "      <td>479.37948</td>\n",
       "      <td>0.333333</td>\n",
       "    </tr>\n",
       "    <tr>\n",
       "      <th>4</th>\n",
       "      <td>350000.0</td>\n",
       "      <td>2</td>\n",
       "      <td>1</td>\n",
       "      <td>0</td>\n",
       "      <td>92.90300</td>\n",
       "      <td>0</td>\n",
       "      <td>0</td>\n",
       "      <td>0</td>\n",
       "      <td>1</td>\n",
       "      <td>1</td>\n",
       "      <td>1</td>\n",
       "      <td>3</td>\n",
       "      <td>3</td>\n",
       "      <td>30.967667</td>\n",
       "      <td>8630.967409</td>\n",
       "      <td>1</td>\n",
       "      <td>92.90300</td>\n",
       "      <td>0.500000</td>\n",
       "    </tr>\n",
       "  </tbody>\n",
       "</table>\n",
       "</div>"
      ],
      "text/plain": [
       "      price  bedrooms  grade  has_basement  living_in_m2  renovated  \\\n",
       "0  305000.0         2      1             0      76.18046          0   \n",
       "1  498000.0         3      2             1     210.88981          0   \n",
       "2  590000.0         2      4             0     262.91549          0   \n",
       "3  775000.0         3      3             0     159.79316          0   \n",
       "4  350000.0         2      1             0      92.90300          0   \n",
       "\n",
       "   nice_view  perfect_condition  real_bathrooms  has_lavatory  single_floor  \\\n",
       "0          0                  1               1             0             1   \n",
       "1          0                  0               2             1             1   \n",
       "2          0                  0               2             1             0   \n",
       "3          0                  0               1             1             0   \n",
       "4          0                  0               1             1             1   \n",
       "\n",
       "   quartile_zone  total_rooms  area_per_room  living_in_m2_squared  \\\n",
       "0              2            3      25.393487           5803.462486   \n",
       "1              2            5      42.177962          44474.511962   \n",
       "2              2            4      65.728872          69124.554882   \n",
       "3              3            4      39.948290          25533.853983   \n",
       "4              3            3      30.967667           8630.967409   \n",
       "\n",
       "   quality_score  grade_area  bathroom_bedroom_ratio  \n",
       "0              2    76.18046                0.500000  \n",
       "1              2   421.77962                0.666667  \n",
       "2              4  1051.66196                1.000000  \n",
       "3              3   479.37948                0.333333  \n",
       "4              1    92.90300                0.500000  "
      ]
     },
     "execution_count": 31,
     "metadata": {},
     "output_type": "execute_result"
    }
   ],
   "source": [
    "Data.head()"
   ]
  },
  {
   "cell_type": "code",
   "execution_count": 32,
   "metadata": {},
   "outputs": [],
   "source": [
    "X = Data.drop(columns=[\"price\"])\n",
    "X = X.select_dtypes(include=[np.number])  \n",
    "y = Data[\"price\"]\n",
    "X_train1, X_test1, y_train, y_test = train_test_split(X, y, test_size=0.2, random_state=42)"
   ]
  },
  {
   "cell_type": "code",
   "execution_count": 33,
   "metadata": {},
   "outputs": [],
   "source": [
    "from sklearn.preprocessing import StandardScaler\n",
    "scaler = StandardScaler()\n",
    "X_train = scaler.fit_transform(X_train1)\n",
    "X_test = scaler.transform(X_test1)"
   ]
  },
  {
   "cell_type": "code",
   "execution_count": 34,
   "metadata": {},
   "outputs": [
    {
     "name": "stdout",
     "output_type": "stream",
     "text": [
      "R2 score: 0.7352034905991857\n"
     ]
    }
   ],
   "source": [
    "from sklearn.linear_model import LinearRegression\n",
    "linear_reg = LinearRegression()\n",
    "# X_train = pd.DataFrame(X_train)\n",
    "# X_test = pd.DataFrame(X_test)\n",
    "linear_reg.fit(X_train, y_train)\n",
    "linear_y_pred = linear_reg.predict(X_test)\n",
    "r2_linear = r2_score(y_test, linear_y_pred)\n",
    "print(\"R2 score:\", r2_linear)"
   ]
  },
  {
   "cell_type": "code",
   "execution_count": 35,
   "metadata": {},
   "outputs": [
    {
     "name": "stdout",
     "output_type": "stream",
     "text": [
      "R2 score: 0.7304572524260351\n"
     ]
    }
   ],
   "source": [
    "from sklearn.ensemble import AdaBoostRegressor\n",
    "from sklearn.tree import DecisionTreeRegressor\n",
    "from sklearn.metrics import r2_score\n",
    "ada_reg = AdaBoostRegressor(estimator=DecisionTreeRegressor(max_depth=11), n_estimators=50, random_state=42)\n",
    "ada_reg.fit(X_train, y_train)\n",
    "ada_y_pred = ada_reg.predict(X_test)\n",
    "r2_ada = r2_score(y_test, ada_y_pred)\n",
    "print(\"R2 score:\", r2_ada)"
   ]
  },
  {
   "cell_type": "code",
   "execution_count": 36,
   "metadata": {},
   "outputs": [
    {
     "name": "stdout",
     "output_type": "stream",
     "text": [
      "R2 score: 0.7217345249580382\n"
     ]
    }
   ],
   "source": [
    "from sklearn.ensemble import RandomForestRegressor\n",
    "# X_train = pd.DataFrame(X_train)\n",
    "# X_test = pd.DataFrame(X_test)\n",
    "Random_forest_reg = RandomForestRegressor(n_estimators=200, random_state=42)\n",
    "Random_forest_reg.fit(X_train, y_train)\n",
    "random_y_pred = Random_forest_reg.predict(X_test)\n",
    "r2_randomforest = r2_score(y_test, random_y_pred)\n",
    "print(\"R2 score:\", r2_randomforest)"
   ]
  },
  {
   "cell_type": "code",
   "execution_count": 37,
   "metadata": {},
   "outputs": [
    {
     "name": "stdout",
     "output_type": "stream",
     "text": [
      "R2 score: 0.735203310545719\n"
     ]
    }
   ],
   "source": [
    "from sklearn.linear_model import RidgeCV\n",
    "ridge_regression = RidgeCV(alphas=[0.1, 0.01, 0.001], cv=5)\n",
    "ridge_regression.fit(X_train, y_train)\n",
    "ridge_y_pred = ridge_regression.predict(X_test)\n",
    "r2_ridge = r2_score(y_test, ridge_y_pred)\n",
    "print(\"R2 score:\", r2_ridge)"
   ]
  },
  {
   "cell_type": "code",
   "execution_count": 38,
   "metadata": {},
   "outputs": [
    {
     "name": "stdout",
     "output_type": "stream",
     "text": [
      "R2 score: 0.7552279670208428\n"
     ]
    }
   ],
   "source": [
    "from xgboost import XGBRegressor\n",
    "xgb_model = XGBRegressor(n_estimators=100, learning_rate=0.05, random_state=42)\n",
    "xgb_model.fit(X_train, y_train)\n",
    "y_pred_xgb = xgb_model.predict(X_test)\n",
    "r2_xgb = r2_score(y_test, y_pred_xgb)\n",
    "print(\"R2 score:\", r2_xgb)"
   ]
  },
  {
   "cell_type": "code",
   "execution_count": 39,
   "metadata": {},
   "outputs": [
    {
     "name": "stdout",
     "output_type": "stream",
     "text": [
      "R2 score: 0.7533186535286664\n"
     ]
    }
   ],
   "source": [
    "from sklearn.ensemble import GradientBoostingRegressor\n",
    "gbr_model = GradientBoostingRegressor(n_estimators=200, learning_rate=0.11, random_state=42)\n",
    "gbr_model.fit(X_train, y_train)\n",
    "y_pred_gbr = gbr_model.predict(X_test)\n",
    "r2_gbr = r2_score(y_test, y_pred_gbr)\n",
    "print(\"R2 score:\", r2_gbr)"
   ]
  },
  {
   "cell_type": "code",
   "execution_count": 40,
   "metadata": {},
   "outputs": [
    {
     "name": "stdout",
     "output_type": "stream",
     "text": [
      "R2 score: 0.7270124331928716\n"
     ]
    }
   ],
   "source": [
    "from sklearn.tree import DecisionTreeRegressor\n",
    "dt_model = DecisionTreeRegressor(max_depth=7, random_state=42)\n",
    "dt_model.fit(X_train, y_train)\n",
    "y_pred_dt = dt_model.predict(X_test)\n",
    "r2_dt = r2_score(y_test, y_pred_dt)\n",
    "print(\"R2 score:\", r2_dt)"
   ]
  },
  {
   "cell_type": "code",
   "execution_count": 41,
   "metadata": {},
   "outputs": [],
   "source": [
    "def ensemble_learning(models, X_test):   \n",
    "    predictions = np.column_stack([model.predict(X_test) for model in models])\n",
    "    final_prediction = np.mean(predictions, axis=1)\n",
    "    return final_prediction"
   ]
  },
  {
   "cell_type": "code",
   "execution_count": 42,
   "metadata": {},
   "outputs": [],
   "source": [
    "models = [xgb_model,gbr_model,Random_forest_reg,ridge_regression,dt_model] \n",
    "y_pred_ensemble = ensemble_learning(models, X_test)"
   ]
  },
  {
   "cell_type": "code",
   "execution_count": 43,
   "metadata": {},
   "outputs": [
    {
     "name": "stdout",
     "output_type": "stream",
     "text": [
      "R2 Score: 0.7561365022605064\n"
     ]
    }
   ],
   "source": [
    "r2 = r2_score(y_test, y_pred_ensemble)\n",
    "print(f\"R2 Score: {r2}\")    "
   ]
  }
 ],
 "metadata": {
  "kernelspec": {
   "display_name": "Python 3",
   "language": "python",
   "name": "python3"
  },
  "language_info": {
   "codemirror_mode": {
    "name": "ipython",
    "version": 3
   },
   "file_extension": ".py",
   "mimetype": "text/x-python",
   "name": "python",
   "nbconvert_exporter": "python",
   "pygments_lexer": "ipython3",
   "version": "3.12.10"
  }
 },
 "nbformat": 4,
 "nbformat_minor": 2
}
